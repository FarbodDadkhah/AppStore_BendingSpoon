{
 "cells": [
  {
   "cell_type": "markdown",
   "metadata": {},
   "source": [
    "#### Note: \n",
    "     this project is solely a showcase of **creativity and adaptness** to emerging AI technology. \n",
    "     \n",
    "     unlike Hotels Analysis where i showcase my deep analysis skills, this project is how i come up with solutions fast and use AI to gain insights that were previously time intensive and boring.\n",
    "\n",
    "#### for purely **SQL, pandas statistical analysis, visualization** :\n",
    "     you should check my hotels analysis project. also on my github.\n",
    "\n",
    "#### added note :\n",
    "        js async functions for retrieval are in app.js file.\n",
    "\n",
    "        data is saved into csv files which is consistent and reusable in 'exported_csv_data' directory.\n",
    "\n",
    "#### lets dive in !!"
   ]
  },
  {
   "cell_type": "markdown",
   "metadata": {},
   "source": [
    "### ------------------------------------------------------------"
   ]
  },
  {
   "cell_type": "markdown",
   "metadata": {},
   "source": [
    "### Porject Objective : \n",
    "\n",
    "• Scrape available data from AppStore and observe products developed by Bending Spoon, save it so it is reusable. \n",
    "\n",
    "• Use **OpenAI gpt-4o** to gain an understanding of users dissatisfaction points towards an app from Bendingspoon \\\n",
    "    in US & Italy. ( the data can be used for **Analyzing Ratings Distribution and deepdive using AI** amongst different customer segments mathced with **Reviews** , and much more. for the sake of the  mini-project, we keep to this minimal task) \n",
    "\n",
    "• Summarise main dissatisfaction. [findings](#gpt4o_findings)\n",
    "\n",
    "• fun fact: in preparing the prompt string for ai, i found that our american customers talk roughly 6 times more than italians! "
   ]
  },
  {
   "cell_type": "markdown",
   "metadata": {},
   "source": [
    "### ------------------------------------------------------------"
   ]
  },
  {
   "cell_type": "markdown",
   "metadata": {},
   "source": [
    "## Tools Used:\n",
    "\n",
    "   • Pandas : Import/export of data and transforming into proper formating for a **csv** file, data   and prep data prep openai api. \n",
    "\n",
    "   • Java script : scrape data using external libraries and turning them into **json**. \n",
    "\n",
    "   • SQL : Importing data into database, queying and look ups. \n",
    "\n",
    "\n",
    "\n",
    "## my approach  : \n",
    "\n",
    "   1- reverse look up on splice app to find the dev id using the app scrape in js. which is 1280299077 for Bending Spoon. \n",
    "\n",
    "   2- retrieved all the apps data developed by the team and ratings, so that with the rest of the data, **JOIN** operations can be \n",
    "   \n",
    "   used  matching with id to gain insight if relevant. (for example to get ratings based on each app for distribution, we can just do a simple \n",
    "   \n",
    "   **regex** with LEFT JOIN of tables  \"apps_by_developer\" and \"ratings\" in our db.)[ex](#example_join)\n",
    "\n",
    "   3- choosing an app for further deep dive of customer dissatisfaction in US & Italy, (Remini)\n",
    "    \n",
    "   4- finaly transforming and passing the data to  **gpt-4o**  model to take advantage of its NLP & reasoning power in ordee to extract possible pain points of customers. "
   ]
  },
  {
   "cell_type": "markdown",
   "metadata": {},
   "source": [
    "### ------------------------------------------------------------"
   ]
  },
  {
   "cell_type": "markdown",
   "metadata": {},
   "source": [
    "###### gpt4o_findings\n",
    "## \"4o model findings based on our Reviews for Remini AI app\": (considerations about data limits [click](#considerations))\n",
    "### **Italian Customers Dissatisfaction analysis** : \n",
    "\n",
    "  **Billing and Subscription Issues**: There are frequent complaints about unexpected charges and difficulties in managing subscriptions, such\n",
    "  \n",
    "   as being charged despite canceling, and the app employing \"subtle\" methods to initiate costly weekly subscriptions.\n",
    "\n",
    "  **Customer Support**: Several users expressed dissatisfaction with a lack of assistance and support from customer service, particularly when \n",
    "  \n",
    "  seeking refunds or resolving issues.\n",
    "\n",
    "  **Limited Functionality in Free Version**: Users are unhappy with the limited capabilities of the free version and the substantial difference \n",
    "  \n",
    "  compared to the paid version. Many features are locked behind a paywall, which surprises or frustrates users after a few uses.\n",
    "\n",
    "  **Cost and Value Concerns**: The app is perceived as too expensive, with specific mentions of the weekly and annual costs being unreasonable. \n",
    "  \n",
    "  Some users feel that the app doesn’t deliver enough value to justify these costs.\n",
    "\n",
    "### **American Customers Dissatisfaction analysis** : \n",
    "\n",
    "**Unfair Pricing and Hidden Charges**: Many users express frustration over misleading subscription models, unexpected charges, and the need to \n",
    "\n",
    "pay for basic features or trials, which they found unreasonable and deceptive.\n",
    "\n",
    "**Poor Customer Service**: Customers reported difficulties in obtaining refunds, contacting support, and getting issues resolved. Some even \n",
    "\n",
    "described feeling ghosted after reaching out for help.\n",
    "\n",
    "**Quality and Usability Issues**: Users experienced subpar photo enhancement results, including unnatural alterations to facial features. \n",
    "\n",
    "Additionally, crucial features previously available have been removed or hidden behind paywalls.\n",
    "\n",
    "**Excessive Advertisements**: The app bombards users with intrusive ads, diminishing user experience and making photo enhancement processes \n",
    "\n",
    "cumbersome and time-consuming.\n",
    "\n",
    "**AI Limitations and Bias**: The AI often produced inaccurate representations, failing to adequately enhance non-portrait photos and exhibiting \n",
    "\n",
    "bias, such as rendering all cartoon versions as Caucasian regardless of the user's ethnicity.\n",
    "\n",
    "**Feature Removal**: Long-term users expressed dissatisfaction over the removal of previously available features like video editing and photo \n",
    "\n",
    "restoration, which were some of the app's key attractions\n",
    "\n",
    "\n",
    "\n",
    "!!! \n",
    "##### considerations \n",
    "((\n",
    "#### In retrieving the Reviews data i used the scraper which had limitations on it and roughly 100 reviews were retrieved from each country. \n",
    "##### 1-data rows are limited\n",
    "##### 2-might be outdated (the reviews are scattered through past couple years )\n",
    "##### 3-AI might not be accurate and the team needs to analyze issues further.\n",
    "\n",
    "#### improve : a more advanced scraper should be used or the data shall be retrieved directly form the team since they have access to appstore data  -> then the reviews can be much better representation of current customer painponts as some of issues above can be already solved or non-relevant anymore.\n",
    "))\n"
   ]
  },
  {
   "cell_type": "markdown",
   "metadata": {},
   "source": [
    "### ------------------------------------------------------------"
   ]
  },
  {
   "cell_type": "markdown",
   "metadata": {},
   "source": [
    "### example_join\n",
    "\n",
    "SELECT \\\n",
    "apps_by_developer.id, \\\n",
    " apps_by_developer.appid,  \\\n",
    " apps_by_developer.title, \\\n",
    " ratings.ratings, \\\n",
    " ratings.rated_1, \\\n",
    " ratings.rated_2, \\\n",
    " ratings.rated_3,  \\\n",
    " ratings.rated_4, \\\n",
    " ratings.rated_5 \n",
    "\n",
    "FROM apps_by_developer LEFT JOIN ratings ON apps_by_developer.id = ratings.id\n",
    "WHERE apps_by_developer.title ILIKE '%Remini%';"
   ]
  },
  {
   "cell_type": "markdown",
   "metadata": {},
   "source": [
    "### ------------------------------------------------------------\n",
    "# CODE "
   ]
  },
  {
   "cell_type": "code",
   "execution_count": 1,
   "metadata": {},
   "outputs": [
    {
     "name": "stdout",
     "output_type": "stream",
     "text": [
      "Index(['id', 'appId', 'title', 'url', 'description', 'icon', 'genres',\n",
      "       'genreIds', 'primaryGenre', 'primaryGenreId', 'contentRating',\n",
      "       'languages', 'size', 'requiredOsVersion', 'released', 'updated',\n",
      "       'releaseNotes', 'version', 'price', 'currency', 'free', 'developerId',\n",
      "       'developer', 'developerUrl', 'developerWebsite', 'score', 'reviews',\n",
      "       'currentVersionScore', 'currentVersionReviews', 'screenshots',\n",
      "       'ipadScreenshots', 'appletvScreenshots', 'supportedDevices'],\n",
      "      dtype='object')\n"
     ]
    }
   ],
   "source": [
    "import pandas as pd\n",
    "import json\n",
    "# Load json data\n",
    "with open('dev_data/developer_apps_data/developer_apps.json', 'r') as f:\n",
    "    developer_apps_data = json.load(f)\n",
    "# Convert to df\n",
    "d_apps_df = pd.json_normalize(developer_apps_data)\n",
    "#print(d_apps_df.columns)\n",
    "#print(d_apps_df.isnull().sum())\n",
    "d_apps_df.to_csv('exported_csv_data/apps_by_developer.csv', index=False)  \n",
    "print(d_apps_df.columns)\n"
   ]
  },
  {
   "cell_type": "code",
   "execution_count": 2,
   "metadata": {},
   "outputs": [],
   "source": [
    "import json\n",
    "\n",
    "list_of_csv_files = [\"dev_data/appsdata/Splice___Video_Editor___Maker_data.json\",\n",
    "                     \"dev_data/appsdata/Remini___AI_Photo_Enhancer_data.json\",\n",
    "                     \"dev_data/appsdata/30_Day_Fitness___Home_Workout_data.json\",\n",
    "                     \"dev_data/appsdata/Alight_Motion_data.json\",\n",
    "                     \"dev_data/appsdata/Sleep_data.json\",\n",
    "                     \"dev_data/appsdata/Filmic_Pro_Video_Camera_data.json\",\n",
    "                     \"dev_data/appsdata/Yoga__Poses_and_Moves_at_Home_data.json\",\n",
    "                     \"dev_data/appsdata/Focos_Live_data.json\",\n",
    "                     \"dev_data/appsdata/DoubleTake___Multicam_video_data.json\",\n",
    "                     \"dev_data/appsdata/Filmic_Legacy_data.json\",\n",
    "                     \"dev_data/appsdata/Focos_data.json\",\n",
    "                     \"dev_data/appsdata/Filmic_Firstlight___Photo_App_data.json\"                \n",
    "    \n",
    "]\n",
    "df_list = []\n",
    "for i in range(len(list_of_csv_files)): \n",
    "    with open(list_of_csv_files[i], 'r') as f: \n",
    "       app_data = json.load(f)\n",
    "       df = pd.json_normalize(app_data)\n",
    "       df_list.append(df)\n",
    "\n",
    "combined_df = pd.concat([df_list[i] for i in range(len(df_list))], ignore_index=True)\n",
    "\n",
    "\n",
    "combined_df = combined_df.rename(columns={\n",
    "    'histogram.1': 'rated_1',\n",
    "    'histogram.2': 'rated_2',\n",
    "    'histogram.3': 'rated_3',\n",
    "    'histogram.4': 'rated_4',\n",
    "    'histogram.5': 'rated_5'\n",
    "})\n",
    "ratings_combined_df = combined_df[['id', 'appId', 'title', 'url','ratings',\n",
    "       'rated_1', 'rated_2', 'rated_3', 'rated_4',\n",
    "       'rated_5']]\n",
    "ratings_combined_df\n",
    "ratings_combined_df.to_csv('exported_csv_data/ratings_data.csv', index=False) "
   ]
  },
  {
   "cell_type": "markdown",
   "metadata": {},
   "source": [
    "# Transforming Reviews data, saving it as csv for refined formatting, preparing for AI sentiment analysis."
   ]
  },
  {
   "cell_type": "code",
   "execution_count": null,
   "metadata": {},
   "outputs": [],
   "source": [
    "import json\n",
    "\n",
    "reviews_csv_files = [\"dev_data/remini_reviews_data/italy_helpful_sample.json\",\n",
    "                     \"dev_data/remini_reviews_data/italy_recent_sample.json\",\n",
    "                     \"dev_data/remini_reviews_data/us_helpful_sample.json\",\n",
    "                     \"dev_data/remini_reviews_data/us_recent_sample.json\",\n",
    "]\n",
    "reviews_df_list = []\n",
    "for i in range(len(reviews_csv_files)): \n",
    "    with open(reviews_csv_files[i], 'r') as f: \n",
    "       app_data = json.load(f)\n",
    "       df = pd.json_normalize(app_data)\n",
    "       reviews_df_list.append(df)\n",
    "\n",
    "\n",
    "\n",
    "italian_reviews = pd.concat([reviews_df_list[0], reviews_df_list[1]], ignore_index=True).sort_values(by='score').reset_index(drop=True)\n",
    "american_reviews = pd.concat([reviews_df_list[2], reviews_df_list[3]], ignore_index=True).sort_values(by='score').reset_index(drop=True)\n",
    "\n",
    "\n",
    "italian_reviews['appiD'] = 1470373330\n",
    "american_reviews['appiD'] = 1470373330\n",
    "\n",
    "\n",
    "italian_reviews['id'] = italian_reviews['id'].astype(int)\n",
    "italian_reviews = italian_reviews.drop_duplicates()\n",
    "american_reviews['id'] = american_reviews['id'].astype(int)\n",
    "american_reviews = american_reviews.drop_duplicates()\n",
    "\n",
    "italian_reviews.to_csv('exported_csv_data/reviews/italian_reviews.csv', index=False) \n",
    "american_reviews.to_csv('exported_csv_data/reviews/american_reviews.csv', index=False)"
   ]
  },
  {
   "cell_type": "markdown",
   "metadata": {},
   "source": [
    "# Using OpenAI gpt 4.0 for customer snetiment analysis,\n",
    "**objective** : to find main dissatisfaction factors affecting out customer base in US & Italy"
   ]
  },
  {
   "cell_type": "code",
   "execution_count": 7,
   "metadata": {},
   "outputs": [],
   "source": [
    "italian_text_reviews_list = list(italian_reviews['text'])\n",
    "american_text_reviews_list = list(american_reviews['text'])\n",
    "italian_reviews_giant_string = \" \".join(italian_text_reviews_list)  \n",
    "american_reviews_giant_string = \" \".join(american_text_reviews_list)\n",
    "\n",
    "# american comments length : 29143 vs italians : 5785"
   ]
  },
  {
   "cell_type": "code",
   "execution_count": null,
   "metadata": {},
   "outputs": [
    {
     "name": "stdout",
     "output_type": "stream",
     "text": [
      "Italian Customers Dissatisfaction analysis : \n",
      "ChatCompletionMessage(content='The main reasons for dissatisfaction among the Italian customer group based on the provided reviews are:\\n\\n1. **Billing and Subscription Issues**: There are frequent complaints about unexpected charges and difficulties in managing subscriptions, such as being charged despite canceling, and the app employing \"subtle\" methods to initiate costly weekly subscriptions.\\n\\n2. **Customer Support**: Several users expressed dissatisfaction with a lack of assistance and support from customer service, particularly when seeking refunds or resolving issues.\\n\\n3. **Limited Functionality in Free Version**: Users are unhappy with the limited capabilities of the free version and the substantial difference compared to the paid version. Many features are locked behind a paywall, which surprises or frustrates users after a few uses.\\n\\n4. **Cost and Value Concerns**: The app is perceived as too expensive, with specific mentions of the weekly and annual costs being unreasonable. Some users feel that the app doesn’t deliver enough value to justify these costs.\\n\\n5. **Functionality and Performance**: Concerns about the app’s performance, including slow functionality and not delivering on promised outcomes (e.g., not effectively editing photos or recognizing faces), were highlighted.\\n\\n6. **Privacy Concerns**: There\\'s a notable concern with privacy, as one review mentions that the app stores user photos on its servers, causing unease about policy violations.\\n\\nBy addressing these issues, the app developers may improve customer satisfaction among this group.', refusal=None, role='assistant', audio=None, function_call=None, tool_calls=None)\n",
      "None\n",
      "American Customers Dissatisfaction analysis : \n",
      "ChatCompletionMessage(content=\"The main reasons for dissatisfaction among American customers regarding the app include:\\n\\n1. **Unfair Pricing and Hidden Charges**: Many users express frustration over misleading subscription models, unexpected charges, and the need to pay for basic features or trials, which they found unreasonable and deceptive.\\n\\n2. **Poor Customer Service**: Customers reported difficulties in obtaining refunds, contacting support, and getting issues resolved. Some even described feeling ghosted after reaching out for help.\\n\\n3. **Quality and Usability Issues**: Users experienced subpar photo enhancement results, including unnatural alterations to facial features. Additionally, crucial features previously available have been removed or hidden behind paywalls.\\n\\n4. **Excessive Advertisements**: The app bombards users with intrusive ads, diminishing user experience and making photo enhancement processes cumbersome and time-consuming.\\n\\n5. **Technical and Functionality Problems**: Many faced technical glitches including app crashes, login issues, and complicated user interfaces that hindered access to paid features and trial periods.\\n\\n6. **AI Limitations and Bias**: The AI often produced inaccurate representations, failing to adequately enhance non-portrait photos and exhibiting bias, such as rendering all cartoon versions as Caucasian regardless of the user's ethnicity.\\n\\n7. **Feature Removal**: Long-term users expressed dissatisfaction over the removal of previously available features like video editing and photo restoration, which were some of the app's key attractions.\\n\\nThese issues are compounded by perceived greed and lack of customer loyalty, turning many long-term users away from the app.\", refusal=None, role='assistant', audio=None, function_call=None, tool_calls=None)\n",
      "None\n"
     ]
    }
   ],
   "source": [
    "from openai import OpenAI\n",
    "\n",
    "client = OpenAI(\n",
    "  api_key=\"api_key removed for security purposes because this will be published on github... \"\n",
    ")\n",
    "\n",
    "prompt_template = \"\"\"\n",
    "Analyze the following customer reviews and identify the main reasons for customer dissatisfaction. Focus on recurring themes or issues.\n",
    "\n",
    "Customer Group: {group_name}\n",
    "Reviews:\n",
    "{reviews}\n",
    "\n",
    "Please summarize the key dissatisfaction points for this customer group in a concise manner.\n",
    "\"\"\"\n",
    "\n",
    "# Analyze each customer group\n",
    "for group_name, reviews in [(\"Italian Customers\", italian_reviews_giant_string), (\"American Customers\", american_reviews_giant_string)]:\n",
    "    prompt = prompt_template.format(group_name=group_name, reviews=reviews)\n",
    "    \n",
    "    # Call the API\n",
    "    completion = client.chat.completions.create(\n",
    "        model=\"gpt-4o\",  # Use your preferred model\n",
    "        store=True,\n",
    "        messages=[\n",
    "            {\"role\": \"user\", \"content\": prompt}\n",
    "        ]\n",
    "    )\n",
    "    print(f'{group_name} Dissatisfaction analysis : ')\n",
    "    print(print(completion.choices[0].message))\n",
    "    "
   ]
  }
 ],
 "metadata": {
  "kernelspec": {
   "display_name": "scraper_env",
   "language": "python",
   "name": "python3"
  },
  "language_info": {
   "codemirror_mode": {
    "name": "ipython",
    "version": 3
   },
   "file_extension": ".py",
   "mimetype": "text/x-python",
   "name": "python",
   "nbconvert_exporter": "python",
   "pygments_lexer": "ipython3",
   "version": "3.11.5"
  }
 },
 "nbformat": 4,
 "nbformat_minor": 2
}
